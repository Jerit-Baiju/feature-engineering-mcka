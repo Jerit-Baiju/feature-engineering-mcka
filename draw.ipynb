{
 "cells": [
  {
   "cell_type": "markdown",
   "id": "21adda9e",
   "metadata": {},
   "source": [
    "# Load and Summarize Lottery Data\n",
    "This notebook loads the `lottery_data.csv` file as a pandas DataFrame and displays its summary."
   ]
  },
  {
   "cell_type": "code",
   "execution_count": 3,
   "id": "0617ae7f",
   "metadata": {},
   "outputs": [
    {
     "data": {
      "text/html": [
       "<div>\n",
       "<style scoped>\n",
       "    .dataframe tbody tr th:only-of-type {\n",
       "        vertical-align: middle;\n",
       "    }\n",
       "\n",
       "    .dataframe tbody tr th {\n",
       "        vertical-align: top;\n",
       "    }\n",
       "\n",
       "    .dataframe thead th {\n",
       "        text-align: right;\n",
       "    }\n",
       "</style>\n",
       "<table border=\"1\" class=\"dataframe\">\n",
       "  <thead>\n",
       "    <tr style=\"text-align: right;\">\n",
       "      <th></th>\n",
       "      <th>number</th>\n",
       "      <th>date</th>\n",
       "      <th>prize_amount</th>\n",
       "      <th>draw_id</th>\n",
       "      <th>prize_category</th>\n",
       "      <th>day_name</th>\n",
       "    </tr>\n",
       "  </thead>\n",
       "  <tbody>\n",
       "    <tr>\n",
       "      <th>0</th>\n",
       "      <td>22</td>\n",
       "      <td>2025-01-01</td>\n",
       "      <td>100</td>\n",
       "      <td>74771</td>\n",
       "      <td>7th prize</td>\n",
       "      <td>Wednesday</td>\n",
       "    </tr>\n",
       "    <tr>\n",
       "      <th>1</th>\n",
       "      <td>185</td>\n",
       "      <td>2025-01-01</td>\n",
       "      <td>100</td>\n",
       "      <td>74771</td>\n",
       "      <td>7th prize</td>\n",
       "      <td>Wednesday</td>\n",
       "    </tr>\n",
       "    <tr>\n",
       "      <th>2</th>\n",
       "      <td>312</td>\n",
       "      <td>2025-01-01</td>\n",
       "      <td>100</td>\n",
       "      <td>74771</td>\n",
       "      <td>7th prize</td>\n",
       "      <td>Wednesday</td>\n",
       "    </tr>\n",
       "    <tr>\n",
       "      <th>3</th>\n",
       "      <td>377</td>\n",
       "      <td>2025-01-01</td>\n",
       "      <td>100</td>\n",
       "      <td>74771</td>\n",
       "      <td>7th prize</td>\n",
       "      <td>Wednesday</td>\n",
       "    </tr>\n",
       "    <tr>\n",
       "      <th>4</th>\n",
       "      <td>568</td>\n",
       "      <td>2025-01-01</td>\n",
       "      <td>100</td>\n",
       "      <td>74771</td>\n",
       "      <td>7th prize</td>\n",
       "      <td>Wednesday</td>\n",
       "    </tr>\n",
       "  </tbody>\n",
       "</table>\n",
       "</div>"
      ],
      "text/plain": [
       "   number        date  prize_amount  draw_id prize_category   day_name\n",
       "0      22  2025-01-01           100    74771      7th prize  Wednesday\n",
       "1     185  2025-01-01           100    74771      7th prize  Wednesday\n",
       "2     312  2025-01-01           100    74771      7th prize  Wednesday\n",
       "3     377  2025-01-01           100    74771      7th prize  Wednesday\n",
       "4     568  2025-01-01           100    74771      7th prize  Wednesday"
      ]
     },
     "execution_count": 3,
     "metadata": {},
     "output_type": "execute_result"
    }
   ],
   "source": [
    "import pandas as pd\n",
    "df = pd.read_csv('datasets/lottery_data.csv')\n",
    "df.head()"
   ]
  },
  {
   "cell_type": "code",
   "execution_count": 4,
   "id": "a1c9bfd8",
   "metadata": {},
   "outputs": [
    {
     "name": "stdout",
     "output_type": "stream",
     "text": [
      "<class 'pandas.core.frame.DataFrame'>\n",
      "RangeIndex: 65849 entries, 0 to 65848\n",
      "Data columns (total 6 columns):\n",
      " #   Column          Non-Null Count  Dtype \n",
      "---  ------          --------------  ----- \n",
      " 0   number          65849 non-null  int64 \n",
      " 1   date            65849 non-null  object\n",
      " 2   prize_amount    65849 non-null  int64 \n",
      " 3   draw_id         65849 non-null  int64 \n",
      " 4   prize_category  65849 non-null  object\n",
      " 5   day_name        65849 non-null  object\n",
      "dtypes: int64(3), object(3)\n",
      "memory usage: 3.0+ MB\n"
     ]
    },
    {
     "data": {
      "text/html": [
       "<div>\n",
       "<style scoped>\n",
       "    .dataframe tbody tr th:only-of-type {\n",
       "        vertical-align: middle;\n",
       "    }\n",
       "\n",
       "    .dataframe tbody tr th {\n",
       "        vertical-align: top;\n",
       "    }\n",
       "\n",
       "    .dataframe thead th {\n",
       "        text-align: right;\n",
       "    }\n",
       "</style>\n",
       "<table border=\"1\" class=\"dataframe\">\n",
       "  <thead>\n",
       "    <tr style=\"text-align: right;\">\n",
       "      <th></th>\n",
       "      <th>number</th>\n",
       "      <th>date</th>\n",
       "      <th>prize_amount</th>\n",
       "      <th>draw_id</th>\n",
       "      <th>prize_category</th>\n",
       "      <th>day_name</th>\n",
       "    </tr>\n",
       "  </thead>\n",
       "  <tbody>\n",
       "    <tr>\n",
       "      <th>count</th>\n",
       "      <td>65849.000000</td>\n",
       "      <td>65849</td>\n",
       "      <td>65849.000000</td>\n",
       "      <td>65849.000000</td>\n",
       "      <td>65849</td>\n",
       "      <td>65849</td>\n",
       "    </tr>\n",
       "    <tr>\n",
       "      <th>unique</th>\n",
       "      <td>NaN</td>\n",
       "      <td>211</td>\n",
       "      <td>NaN</td>\n",
       "      <td>NaN</td>\n",
       "      <td>8</td>\n",
       "      <td>7</td>\n",
       "    </tr>\n",
       "    <tr>\n",
       "      <th>top</th>\n",
       "      <td>NaN</td>\n",
       "      <td>2025-05-18</td>\n",
       "      <td>NaN</td>\n",
       "      <td>NaN</td>\n",
       "      <td>8th prize</td>\n",
       "      <td>Wednesday</td>\n",
       "    </tr>\n",
       "    <tr>\n",
       "      <th>freq</th>\n",
       "      <td>NaN</td>\n",
       "      <td>869</td>\n",
       "      <td>NaN</td>\n",
       "      <td>NaN</td>\n",
       "      <td>19602</td>\n",
       "      <td>10606</td>\n",
       "    </tr>\n",
       "    <tr>\n",
       "      <th>mean</th>\n",
       "      <td>4981.364470</td>\n",
       "      <td>NaN</td>\n",
       "      <td>837.238227</td>\n",
       "      <td>74888.806345</td>\n",
       "      <td>NaN</td>\n",
       "      <td>NaN</td>\n",
       "    </tr>\n",
       "    <tr>\n",
       "      <th>std</th>\n",
       "      <td>2886.007462</td>\n",
       "      <td>NaN</td>\n",
       "      <td>5016.603497</td>\n",
       "      <td>59.132582</td>\n",
       "      <td>NaN</td>\n",
       "      <td>NaN</td>\n",
       "    </tr>\n",
       "    <tr>\n",
       "      <th>min</th>\n",
       "      <td>0.000000</td>\n",
       "      <td>NaN</td>\n",
       "      <td>50.000000</td>\n",
       "      <td>74771.000000</td>\n",
       "      <td>NaN</td>\n",
       "      <td>NaN</td>\n",
       "    </tr>\n",
       "    <tr>\n",
       "      <th>25%</th>\n",
       "      <td>2480.000000</td>\n",
       "      <td>NaN</td>\n",
       "      <td>100.000000</td>\n",
       "      <td>74839.000000</td>\n",
       "      <td>NaN</td>\n",
       "      <td>NaN</td>\n",
       "    </tr>\n",
       "    <tr>\n",
       "      <th>50%</th>\n",
       "      <td>4995.000000</td>\n",
       "      <td>NaN</td>\n",
       "      <td>100.000000</td>\n",
       "      <td>74901.000000</td>\n",
       "      <td>NaN</td>\n",
       "      <td>NaN</td>\n",
       "    </tr>\n",
       "    <tr>\n",
       "      <th>75%</th>\n",
       "      <td>7481.000000</td>\n",
       "      <td>NaN</td>\n",
       "      <td>500.000000</td>\n",
       "      <td>74936.000000</td>\n",
       "      <td>NaN</td>\n",
       "      <td>NaN</td>\n",
       "    </tr>\n",
       "    <tr>\n",
       "      <th>max</th>\n",
       "      <td>9999.000000</td>\n",
       "      <td>NaN</td>\n",
       "      <td>100000.000000</td>\n",
       "      <td>74981.000000</td>\n",
       "      <td>NaN</td>\n",
       "      <td>NaN</td>\n",
       "    </tr>\n",
       "  </tbody>\n",
       "</table>\n",
       "</div>"
      ],
      "text/plain": [
       "              number        date   prize_amount       draw_id prize_category  \\\n",
       "count   65849.000000       65849   65849.000000  65849.000000          65849   \n",
       "unique           NaN         211            NaN           NaN              8   \n",
       "top              NaN  2025-05-18            NaN           NaN      8th prize   \n",
       "freq             NaN         869            NaN           NaN          19602   \n",
       "mean     4981.364470         NaN     837.238227  74888.806345            NaN   \n",
       "std      2886.007462         NaN    5016.603497     59.132582            NaN   \n",
       "min         0.000000         NaN      50.000000  74771.000000            NaN   \n",
       "25%      2480.000000         NaN     100.000000  74839.000000            NaN   \n",
       "50%      4995.000000         NaN     100.000000  74901.000000            NaN   \n",
       "75%      7481.000000         NaN     500.000000  74936.000000            NaN   \n",
       "max      9999.000000         NaN  100000.000000  74981.000000            NaN   \n",
       "\n",
       "         day_name  \n",
       "count       65849  \n",
       "unique          7  \n",
       "top     Wednesday  \n",
       "freq        10606  \n",
       "mean          NaN  \n",
       "std           NaN  \n",
       "min           NaN  \n",
       "25%           NaN  \n",
       "50%           NaN  \n",
       "75%           NaN  \n",
       "max           NaN  "
      ]
     },
     "execution_count": 4,
     "metadata": {},
     "output_type": "execute_result"
    }
   ],
   "source": [
    "# Display DataFrame info and summary statistics\n",
    "df.info()\n",
    "df.describe(include='all')"
   ]
  },
  {
   "cell_type": "markdown",
   "id": "a96fa877",
   "metadata": {},
   "source": [
    "## Histogram of the 'number' Column\n",
    "Let's visualize the distribution of the `number` column (expected range: 0-9999) using a histogram."
   ]
  },
  {
   "cell_type": "code",
   "execution_count": 9,
   "id": "3ad7d5c0",
   "metadata": {},
   "outputs": [
    {
     "data": {
      "image/png": "[encoded data removed]",
      "text/plain": [
       "<Figure size 1000x600 with 1 Axes>"
      ]
     },
     "metadata": {},
     "output_type": "display_data"
    }
   ],
   "source": [
    "import matplotlib.pyplot as plt\n",
    "plt.figure(figsize=(10,6))\n",
    "plt.hist(df['number'], bins=500, color='skyblue', edgecolor='black')\n",
    "plt.title('Histogram of Lottery Numbers (0-9999)')\n",
    "plt.xlabel('Number')\n",
    "plt.ylabel('Frequency')\n",
    "plt.xlim(0, 9999)\n",
    "plt.grid(axis='y', alpha=0.75)\n",
    "plt.show()"
   ]
  },
  {
   "cell_type": "markdown",
   "id": "4afba759",
   "metadata": {},
   "source": [
    "## Find Missing Numbers in the 'number' Column\n",
    "Let's identify which numbers from 0 to 9999 are not present in the `number` column."
   ]
  },
  {
   "cell_type": "code",
   "execution_count": 10,
   "id": "aec0653f",
   "metadata": {},
   "outputs": [
    {
     "name": "stdout",
     "output_type": "stream",
     "text": [
      "Total missing numbers: 19\n",
      "First 20 missing numbers: [1475, 1907, 2715, 3193, 3922, 4350, 5764, 6243, 6493, 6738, 7163, 8219, 8734, 8776, 9092, 9199, 9541, 9777, 9930]\n"
     ]
    }
   ],
   "source": [
    "all_numbers = set(range(10000))\n",
    "present_numbers = set(df['number'])\n",
    "missing_numbers = sorted(all_numbers - present_numbers)\n",
    "print(f\"Total missing numbers: {len(missing_numbers)}\")\n",
    "print(\"First 20 missing numbers:\", missing_numbers[:20])"
   ]
  },
  {
   "cell_type": "markdown",
   "id": "6d62dc8f",
   "metadata": {},
   "source": [
    "## Most Frequently Occurring Numbers\n",
    "Let's find out which numbers in the `number` column have occurred the most."
   ]
  },
  {
   "cell_type": "code",
   "execution_count": 11,
   "id": "598d8b65",
   "metadata": {},
   "outputs": [
    {
     "name": "stdout",
     "output_type": "stream",
     "text": [
      "Top 20 most frequently occurring numbers:\n",
      "number\n",
      "3526    18\n",
      "3071    18\n",
      "1410    17\n",
      "7423    17\n",
      "969     17\n",
      "7014    16\n",
      "7020    16\n",
      "4225    16\n",
      "414     16\n",
      "1927    16\n",
      "7802    16\n",
      "4278    16\n",
      "4041    16\n",
      "3638    16\n",
      "9666    16\n",
      "4392    15\n",
      "9572    15\n",
      "4901    15\n",
      "7679    15\n",
      "2280    15\n",
      "Name: count, dtype: int64\n"
     ]
    }
   ],
   "source": [
    "top_counts = df['number'].value_counts().head(20)\n",
    "print(\"Top 20 most frequently occurring numbers:\")\n",
    "print(top_counts)"
   ]
  },
  {
   "cell_type": "markdown",
   "id": "800589b3",
   "metadata": {},
   "source": [
    "## Occurrences of Number 3526 by Date\n",
    "Let's visualize how often the number 3526 has occurred over time and calculate the average number of days between its draws."
   ]
  },
  {
   "cell_type": "code",
   "execution_count": 14,
   "id": "d6eade1f",
   "metadata": {},
   "outputs": [
    {
     "data": {
      "image/png": "[encoded data removed]",
      "text/plain": [
       "<Figure size 1200x600 with 1 Axes>"
      ]
     },
     "metadata": {},
     "output_type": "display_data"
    },
    {
     "name": "stdout",
     "output_type": "stream",
     "text": [
      "Average number of days between draws for 3526: 12.06\n"
     ]
    }
   ],
   "source": [
    "# Filter for number 3526\n",
    "df_3526 = df[df['number'] == 3526].copy()\n",
    "df_3526['date'] = pd.to_datetime(df_3526['date'])\n",
    "df_3526_by_date = df_3526.groupby('date').size().reset_index(name='count')\n",
    "\n",
    "# Plot occurrences by date\n",
    "plt.figure(figsize=(12,6))\n",
    "plt.plot(df_3526_by_date['date'], df_3526_by_date['count'], marker='o')\n",
    "plt.title('Occurrences of Number 3526 by Date')\n",
    "plt.xlabel('Date')\n",
    "plt.ylabel('Count')\n",
    "plt.grid(True)\n",
    "plt.show()\n",
    "\n",
    "# Calculate average number of days between draws\n",
    "if len(df_3526_by_date) > 1:\n",
    "    days_between = df_3526_by_date['date'].diff().dt.days.dropna()\n",
    "    avg_days = days_between.mean()\n",
    "    print(f'Average number of days between draws for 3526: {avg_days:.2f}')\n",
    "else:\n",
    "    print('Number 3526 has only occurred once or not at all.')"
   ]
  },
  {
   "cell_type": "markdown",
   "id": "904601b3",
   "metadata": {},
   "source": [
    "## Range of Days Between Draws and Next Predicted Draws for 3526\n",
    "Let's display the minimum and maximum gap (in days) between draws for 3526, and predict the next possible draw dates based on the last draw and the observed gaps."
   ]
  },
  {
   "cell_type": "code",
   "execution_count": 15,
   "id": "212b9bd8",
   "metadata": {},
   "outputs": [
    {
     "name": "stdout",
     "output_type": "stream",
     "text": [
      "Gap between draws for 3526: min=1.0 days, max=32.0 days, avg=12.06 days\n",
      "\n",
      "Next possible draw dates for 3526 (based on observed gaps):\n",
      "  2025-07-31 (gap: 1.0 days)\n",
      "  2025-08-01 (gap: 2.0 days)\n",
      "  2025-08-05 (gap: 6.0 days)\n",
      "  2025-08-06 (gap: 7.0 days)\n",
      "  2025-08-07 (gap: 8.0 days)\n"
     ]
    }
   ],
   "source": [
    "# Calculate min, max, and average gap between draws for 3526\n",
    "if len(df_3526_by_date) > 1:\n",
    "    days_between = df_3526_by_date['date'].diff().dt.days.dropna()\n",
    "    min_gap = days_between.min()\n",
    "    max_gap = days_between.max()\n",
    "    avg_gap = days_between.mean()\n",
    "    print(f\"Gap between draws for 3526: min={min_gap} days, max={max_gap} days, avg={avg_gap:.2f} days\")\n",
    "    \n",
    "    # Predict next possible draw dates based on last date and observed gaps\n",
    "    last_date = df_3526_by_date['date'].max()\n",
    "    print(\"\\nNext possible draw dates for 3526 (based on observed gaps):\")\n",
    "    for gap in sorted(set(days_between))[:5]:\n",
    "        next_date = last_date + pd.Timedelta(days=gap)\n",
    "        print(f\"  {next_date.date()} (gap: {gap} days)\")\n",
    "else:\n",
    "    print('Number 3526 has only occurred once or not at all.')"
   ]
  }
 ],
 "metadata": {
  "kernelspec": {
   "display_name": ".venv",
   "language": "python",
   "name": "python3"
  },
  "language_info": {
   "codemirror_mode": {
    "name": "ipython",
    "version": 3
   },
   "file_extension": ".py",
   "mimetype": "text/x-python",
   "name": "python",
   "nbconvert_exporter": "python",
   "pygments_lexer": "ipython3",
   "version": "3.13.5"
  }
 },
 "nbformat": 4,
 "nbformat_minor": 5
}
