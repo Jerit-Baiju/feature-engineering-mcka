{
 "cells": [
  {
   "cell_type": "code",
   "execution_count": 1,
   "id": "ced66c8d",
   "metadata": {},
   "outputs": [
    {
     "data": {
      "text/html": [
       "<div>\n",
       "<style scoped>\n",
       "    .dataframe tbody tr th:only-of-type {\n",
       "        vertical-align: middle;\n",
       "    }\n",
       "\n",
       "    .dataframe tbody tr th {\n",
       "        vertical-align: top;\n",
       "    }\n",
       "\n",
       "    .dataframe thead th {\n",
       "        text-align: right;\n",
       "    }\n",
       "</style>\n",
       "<table border=\"1\" class=\"dataframe\">\n",
       "  <thead>\n",
       "    <tr style=\"text-align: right;\">\n",
       "      <th></th>\n",
       "      <th>Transaction ID</th>\n",
       "      <th>Item</th>\n",
       "      <th>Quantity</th>\n",
       "      <th>Price Per Unit</th>\n",
       "      <th>Total Spent</th>\n",
       "      <th>Payment Method</th>\n",
       "      <th>Location</th>\n",
       "      <th>Transaction Date</th>\n",
       "    </tr>\n",
       "  </thead>\n",
       "  <tbody>\n",
       "    <tr>\n",
       "      <th>0</th>\n",
       "      <td>TXN_1961373</td>\n",
       "      <td>Coffee</td>\n",
       "      <td>2</td>\n",
       "      <td>2.0</td>\n",
       "      <td>4.0</td>\n",
       "      <td>Credit Card</td>\n",
       "      <td>Takeaway</td>\n",
       "      <td>2023-09-08</td>\n",
       "    </tr>\n",
       "    <tr>\n",
       "      <th>1</th>\n",
       "      <td>TXN_4977031</td>\n",
       "      <td>Cake</td>\n",
       "      <td>4</td>\n",
       "      <td>3.0</td>\n",
       "      <td>12.0</td>\n",
       "      <td>Cash</td>\n",
       "      <td>In-store</td>\n",
       "      <td>2023-05-16</td>\n",
       "    </tr>\n",
       "    <tr>\n",
       "      <th>2</th>\n",
       "      <td>TXN_4271903</td>\n",
       "      <td>Cookie</td>\n",
       "      <td>4</td>\n",
       "      <td>1.0</td>\n",
       "      <td>ERROR</td>\n",
       "      <td>Credit Card</td>\n",
       "      <td>In-store</td>\n",
       "      <td>2023-07-19</td>\n",
       "    </tr>\n",
       "    <tr>\n",
       "      <th>3</th>\n",
       "      <td>TXN_7034554</td>\n",
       "      <td>Salad</td>\n",
       "      <td>2</td>\n",
       "      <td>5.0</td>\n",
       "      <td>10.0</td>\n",
       "      <td>UNKNOWN</td>\n",
       "      <td>UNKNOWN</td>\n",
       "      <td>2023-04-27</td>\n",
       "    </tr>\n",
       "    <tr>\n",
       "      <th>4</th>\n",
       "      <td>TXN_3160411</td>\n",
       "      <td>Coffee</td>\n",
       "      <td>2</td>\n",
       "      <td>2.0</td>\n",
       "      <td>4.0</td>\n",
       "      <td>Digital Wallet</td>\n",
       "      <td>In-store</td>\n",
       "      <td>2023-06-11</td>\n",
       "    </tr>\n",
       "  </tbody>\n",
       "</table>\n",
       "</div>"
      ],
      "text/plain": [
       "  Transaction ID    Item Quantity Price Per Unit Total Spent  Payment Method  \\\n",
       "0    TXN_1961373  Coffee        2            2.0         4.0     Credit Card   \n",
       "1    TXN_4977031    Cake        4            3.0        12.0            Cash   \n",
       "2    TXN_4271903  Cookie        4            1.0       ERROR     Credit Card   \n",
       "3    TXN_7034554   Salad        2            5.0        10.0         UNKNOWN   \n",
       "4    TXN_3160411  Coffee        2            2.0         4.0  Digital Wallet   \n",
       "\n",
       "   Location Transaction Date  \n",
       "0  Takeaway       2023-09-08  \n",
       "1  In-store       2023-05-16  \n",
       "2  In-store       2023-07-19  \n",
       "3   UNKNOWN       2023-04-27  \n",
       "4  In-store       2023-06-11  "
      ]
     },
     "metadata": {},
     "output_type": "display_data"
    }
   ],
   "source": [
    "import os\n",
    "import pandas as pd\n",
    "\n",
    "# Check if you're running on Kaggle\n",
    "IS_KAGGLE = os.path.exists(\"/kaggle/input\")\n",
    "\n",
    "if IS_KAGGLE:\n",
    "    dataset_path = \"/kaggle/input/cafe-sales-dirty-data-for-cleaning-training/dirty_cafe_sales.csv\"\n",
    "else:\n",
    "    dataset_path = \"datasets/dirty_cafe_sales.csv\"\n",
    "\n",
    "# Load the dataset\n",
    "df = pd.read_csv(dataset_path)\n",
    "display(df.head())"
   ]
  },
  {
   "cell_type": "code",
   "execution_count": 2,
   "id": "3bb111aa",
   "metadata": {},
   "outputs": [
    {
     "name": "stdout",
     "output_type": "stream",
     "text": [
      "Data types:\n",
      "Transaction ID      object\n",
      "Item                object\n",
      "Quantity            object\n",
      "Price Per Unit      object\n",
      "Total Spent         object\n",
      "Payment Method      object\n",
      "Location            object\n",
      "Transaction Date    object\n",
      "dtype: object\n",
      "\n",
      "Dataset shape: (10000, 8)\n",
      "\n",
      "Unique values in 'Total Spent' column:\n",
      "['4.0' '12.0' 'ERROR' '10.0' '20.0' '9.0' '16.0' '15.0' '25.0' '8.0' '5.0'\n",
      " '3.0' '6.0' nan 'UNKNOWN' '2.0' '1.0' '7.5' '4.5' '1.5']\n"
     ]
    }
   ],
   "source": [
    "# Examine data types and structure\n",
    "print(\"Data types:\")\n",
    "print(df.dtypes)\n",
    "print(\"\\nDataset shape:\", df.shape)\n",
    "print(\"\\nUnique values in 'Total Spent' column:\")\n",
    "print(df['Total Spent'].unique())"
   ]
  },
  {
   "cell_type": "code",
   "execution_count": 3,
   "id": "5d6639bd",
   "metadata": {},
   "outputs": [
    {
     "name": "stdout",
     "output_type": "stream",
     "text": [
      "Original dataset shape: (10000, 8)\n",
      "Cleaned dataset shape: (8544, 8)\n",
      "Removed 1456 rows with invalid data\n",
      "\n",
      "Cleaned data types:\n",
      "Quantity          float64\n",
      "Price Per Unit    float64\n",
      "Total Spent       float64\n",
      "dtype: object\n"
     ]
    }
   ],
   "source": [
    "# Clean and prepare data for correlation analysis\n",
    "import numpy as np\n",
    "\n",
    "# Create a copy of the dataframe for cleaning\n",
    "df_clean = df.copy()\n",
    "\n",
    "# Clean the 'Total Spent' column - remove non-numeric values\n",
    "df_clean = df_clean[~df_clean['Total Spent'].isin(['ERROR', 'UNKNOWN'])]\n",
    "df_clean = df_clean.dropna(subset=['Total Spent'])\n",
    "\n",
    "# Convert numerical columns to proper data types\n",
    "df_clean['Quantity'] = pd.to_numeric(df_clean['Quantity'], errors='coerce')\n",
    "df_clean['Price Per Unit'] = pd.to_numeric(df_clean['Price Per Unit'], errors='coerce')\n",
    "df_clean['Total Spent'] = pd.to_numeric(df_clean['Total Spent'], errors='coerce')\n",
    "\n",
    "# Remove any remaining NaN values\n",
    "df_clean = df_clean.dropna(subset=['Quantity', 'Price Per Unit', 'Total Spent'])\n",
    "\n",
    "print(f\"Original dataset shape: {df.shape}\")\n",
    "print(f\"Cleaned dataset shape: {df_clean.shape}\")\n",
    "print(f\"Removed {df.shape[0] - df_clean.shape[0]} rows with invalid data\")\n",
    "\n",
    "# Display cleaned data info\n",
    "print(\"\\nCleaned data types:\")\n",
    "print(df_clean[['Quantity', 'Price Per Unit', 'Total Spent']].dtypes)"
   ]
  },
  {
   "cell_type": "code",
   "execution_count": 4,
   "id": "fb8df41d",
   "metadata": {},
   "outputs": [
    {
     "name": "stdout",
     "output_type": "stream",
     "text": [
      "Correlation Matrix:\n",
      "==================================================\n",
      "                Quantity  Price Per Unit  Total Spent\n",
      "Quantity        1.000000        0.007795     0.705139\n",
      "Price Per Unit  0.007795        1.000000     0.646845\n",
      "Total Spent     0.705139        0.646845     1.000000\n",
      "\n",
      "\n",
      "Correlation Matrix (rounded to 4 decimal places):\n",
      "============================================================\n",
      "                Quantity  Price Per Unit  Total Spent\n",
      "Quantity          1.0000          0.0078       0.7051\n",
      "Price Per Unit    0.0078          1.0000       0.6468\n",
      "Total Spent       0.7051          0.6468       1.0000\n"
     ]
    }
   ],
   "source": [
    "# Create correlation matrix\n",
    "numerical_cols = ['Quantity', 'Price Per Unit', 'Total Spent']\n",
    "correlation_matrix = df_clean[numerical_cols].corr()\n",
    "\n",
    "print(\"Correlation Matrix:\")\n",
    "print(\"=\" * 50)\n",
    "print(correlation_matrix)\n",
    "\n",
    "# Display with better formatting\n",
    "print(\"\\n\\nCorrelation Matrix (rounded to 4 decimal places):\")\n",
    "print(\"=\" * 60)\n",
    "print(correlation_matrix.round(4))"
   ]
  },
  {
   "cell_type": "code",
   "execution_count": 6,
   "id": "c8d6052c",
   "metadata": {},
   "outputs": [
    {
     "data": {
      "image/png": "[encoded data removed]",
      "text/plain": [
       "<Figure size 1000x800 with 2 Axes>"
      ]
     },
     "metadata": {},
     "output_type": "display_data"
    },
    {
     "name": "stdout",
     "output_type": "stream",
     "text": [
      "\n",
      "Correlation Matrix Interpretation:\n",
      "========================================\n",
      "• Quantity vs Total Spent: 0.7051 (Strong positive correlation)\n",
      "• Price Per Unit vs Total Spent: 0.6468 (Moderate positive correlation)\n",
      "• Quantity vs Price Per Unit: 0.0078 (Very weak correlation)\n",
      "\n",
      "This makes business sense:\n",
      "- Higher quantities lead to higher total spending\n",
      "- Higher priced items contribute to higher total spending\n",
      "- Quantity and price per unit are largely independent\n"
     ]
    }
   ],
   "source": [
    "# Create a visual correlation matrix heatmap\n",
    "import matplotlib.pyplot as plt\n",
    "import seaborn as sns\n",
    "\n",
    "# Set up the matplotlib figure\n",
    "plt.figure(figsize=(10, 8))\n",
    "\n",
    "# Create heatmap\n",
    "sns.heatmap(correlation_matrix, \n",
    "            annot=True,           # Show correlation values\n",
    "            cmap='coolwarm',      # Color scheme\n",
    "            center=0,             # Center colormap at 0\n",
    "            square=True,          # Make cells square\n",
    "            fmt='.4f',            # Format numbers to 4 decimal places\n",
    "            cbar_kws={'shrink': 0.8})\n",
    "\n",
    "plt.title('Correlation Matrix - Cafe Sales Data', fontsize=16, fontweight='bold')\n",
    "plt.tight_layout()\n",
    "plt.show()\n",
    "\n",
    "# Print interpretation\n",
    "print(\"\\nCorrelation Matrix Interpretation:\")\n",
    "print(\"=\" * 40)\n",
    "print(\"• Quantity vs Total Spent: 0.7051 (Strong positive correlation)\")\n",
    "print(\"• Price Per Unit vs Total Spent: 0.6468 (Moderate positive correlation)\")  \n",
    "print(\"• Quantity vs Price Per Unit: 0.0078 (Very weak correlation)\")\n",
    "print(\"\\nThis makes business sense:\")\n",
    "print(\"- Higher quantities lead to higher total spending\")\n",
    "print(\"- Higher priced items contribute to higher total spending\")\n",
    "print(\"- Quantity and price per unit are largely independent\")"
   ]
  }
 ],
 "metadata": {
  "kernelspec": {
   "display_name": ".venv",
   "language": "python",
   "name": "python3"
  },
  "language_info": {
   "codemirror_mode": {
    "name": "ipython",
    "version": 3
   },
   "file_extension": ".py",
   "mimetype": "text/x-python",
   "name": "python",
   "nbconvert_exporter": "python",
   "pygments_lexer": "ipython3",
   "version": "3.13.3"
  }
 },
 "nbformat": 4,
 "nbformat_minor": 5
}
