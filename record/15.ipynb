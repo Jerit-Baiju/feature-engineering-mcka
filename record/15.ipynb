{
 "cells": [
  {
   "cell_type": "code",
   "execution_count": null,
   "id": "b1197349",
   "metadata": {},
   "outputs": [],
   "source": [
    "from PIL import Image\n",
    "import torchvision.transforms as transforms\n",
    "import matplotlib.pyplot as plt\n",
    "\n",
    "# Step 1: Load the image\n",
    "img = Image.open(\"image.png\")\n",
    "\n",
    "# Step 2: Define augmentations\n",
    "augmentation = transforms.Compose(\n",
    "    [\n",
    "        transforms.Resize((128, 128)),  # Resize to 128x128\n",
    "        transforms.RandomRotation(30),  # Random rotation ±30 degrees\n",
    "        transforms.RandomAffine(0, translate=(0.2, 0.2)),  # Random translation 20% in x and y\n",
    "        transforms.ToTensor(),  # Convert to tensor (0-1 normalization)\n",
    "        transforms.Normalize(mean=[0.5, 0.5, 0.5], std=[0.5, 0.5, 0.5]),  # Normalize to [-1,1]\n",
    "    ]\n",
    ")\n",
    "\n",
    "# Step 3: Apply augmentation\n",
    "img_aug = augmentation(img)\n",
    "\n",
    "# Step 4: Convert back to PIL for visualization\n",
    "img_aug_pil = transforms.ToPILImage()(img_aug)\n",
    "\n",
    "# Step 5: Display original and augmented image\n",
    "plt.figure(figsize=(8, 4))\n",
    "plt.subplot(1, 2, 1)\n",
    "plt.title(\"Original\")\n",
    "plt.imshow(img)\n",
    "plt.axis(\"off\")\n",
    "\n",
    "plt.subplot(1, 2, 2)\n",
    "plt.title(\"Augmented\")\n",
    "plt.imshow(img_aug_pil)\n",
    "plt.axis(\"off\")\n",
    "\n",
    "plt.show()"
   ]
  }
 ],
 "metadata": {
  "kernelspec": {
   "display_name": ".venv",
   "language": "python",
   "name": "python3"
  },
  "language_info": {
   "codemirror_mode": {
    "name": "ipython",
    "version": 3
   },
   "file_extension": ".py",
   "mimetype": "text/x-python",
   "name": "python",
   "nbconvert_exporter": "python",
   "pygments_lexer": "ipython3",
   "version": "3.13.5"
  }
 },
 "nbformat": 4,
 "nbformat_minor": 5
}
