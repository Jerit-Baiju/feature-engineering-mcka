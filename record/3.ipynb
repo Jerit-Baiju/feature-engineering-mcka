{
 "cells": [
  {
   "cell_type": "code",
   "execution_count": 1,
   "id": "0827d3fa",
   "metadata": {},
   "outputs": [
    {
     "name": "stdout",
     "output_type": "stream",
     "text": [
      "Original DataFrame:\n",
      "     Name  Height  Weight\n",
      "0    Liam     172      70\n",
      "1  Sophia     158      55\n",
      "2    Noah     180      80\n",
      "3  Olivia     165      60\n",
      "4   Ethan     175      75\n",
      "\n",
      "DataFrame after Min-Max normalization:\n",
      "     Name    Height  Weight\n",
      "0    Liam  0.636364     0.6\n",
      "1  Sophia  0.000000     0.0\n",
      "2    Noah  1.000000     1.0\n",
      "3  Olivia  0.318182     0.2\n",
      "4   Ethan  0.772727     0.8\n"
     ]
    }
   ],
   "source": [
    "import pandas as pd\n",
    "from sklearn.preprocessing import MinMaxScaler\n",
    "\n",
    "# Step 1: Create a simple DataFrame\n",
    "data = {\n",
    "    \"Name\": [\"Liam\", \"Sophia\", \"Noah\", \"Olivia\", \"Ethan\"],\n",
    "    \"Height\": [172, 158, 180, 165, 175],\n",
    "    \"Weight\": [70, 55, 80, 60, 75],\n",
    "}\n",
    "\n",
    "df = pd.DataFrame(data)\n",
    "print(\"Original DataFrame:\")\n",
    "print(df)\n",
    "\n",
    "# Step 2: Apply Min-Max normalization to 'Height' and 'Weight'\n",
    "scaler = MinMaxScaler()\n",
    "df[[\"Height\", \"Weight\"]] = scaler.fit_transform(df[[\"Height\", \"Weight\"]])\n",
    "\n",
    "print(\"\\nDataFrame after Min-Max normalization:\")\n",
    "print(df)"
   ]
  }
 ],
 "metadata": {
  "kernelspec": {
   "display_name": ".venv",
   "language": "python",
   "name": "python3"
  },
  "language_info": {
   "codemirror_mode": {
    "name": "ipython",
    "version": 3
   },
   "file_extension": ".py",
   "mimetype": "text/x-python",
   "name": "python",
   "nbconvert_exporter": "python",
   "pygments_lexer": "ipython3",
   "version": "3.13.5"
  }
 },
 "nbformat": 4,
 "nbformat_minor": 5
}
