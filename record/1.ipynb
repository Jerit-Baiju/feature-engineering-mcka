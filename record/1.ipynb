{
 "cells": [
  {
   "cell_type": "code",
   "execution_count": 3,
   "id": "5ec9c219",
   "metadata": {},
   "outputs": [
    {
     "name": "stdout",
     "output_type": "stream",
     "text": [
      "Original DataFrame:\n",
      "           Name   Age  Height  Weight Grade   Gender\n",
      "0          Liam  28.0   172.0    70.0     B     Male\n",
      "1        Sophia   NaN   158.0    55.0     A   Female\n",
      "2  Invalid Data  34.0     NaN    68.0   NaN  Unknown\n",
      "3        Olivia  21.0   165.0     NaN     C   Female\n",
      "4         Ethan   NaN   180.0    80.0     B     Male\n",
      "\n",
      "Cleaned DataFrame:\n",
      "     Name   Age  Height     Weight Grade  Gender\n",
      "0    Liam  28.0   172.0  70.000000     B    Male\n",
      "1  Sophia  24.5   158.0  55.000000     A  Female\n",
      "3  Olivia  21.0   165.0  68.333333     C  Female\n",
      "4   Ethan  24.5   180.0  80.000000     B    Male\n"
     ]
    },
    {
     "name": "stderr",
     "output_type": "stream",
     "text": [
      "/var/folders/6p/l4q7z30n5sv_r0vgy0ll38fh0000gn/T/ipykernel_79987/3530544438.py:22: FutureWarning: A value is trying to be set on a copy of a DataFrame or Series through chained assignment using an inplace method.\n",
      "The behavior will change in pandas 3.0. This inplace method will never work because the intermediate object on which we are setting values always behaves as a copy.\n",
      "\n",
      "For example, when doing 'df[col].method(value, inplace=True)', try using 'df.method({col: value}, inplace=True)' or df[col] = df[col].method(value) instead, to perform the operation inplace on the original object.\n",
      "\n",
      "\n",
      "  df_cleaned[\"Age\"].fillna(df_cleaned[\"Age\"].mean(), inplace=True)\n",
      "/var/folders/6p/l4q7z30n5sv_r0vgy0ll38fh0000gn/T/ipykernel_79987/3530544438.py:22: SettingWithCopyWarning: \n",
      "A value is trying to be set on a copy of a slice from a DataFrame\n",
      "\n",
      "See the caveats in the documentation: https://pandas.pydata.org/pandas-docs/stable/user_guide/indexing.html#returning-a-view-versus-a-copy\n",
      "  df_cleaned[\"Age\"].fillna(df_cleaned[\"Age\"].mean(), inplace=True)\n",
      "/var/folders/6p/l4q7z30n5sv_r0vgy0ll38fh0000gn/T/ipykernel_79987/3530544438.py:23: FutureWarning: A value is trying to be set on a copy of a DataFrame or Series through chained assignment using an inplace method.\n",
      "The behavior will change in pandas 3.0. This inplace method will never work because the intermediate object on which we are setting values always behaves as a copy.\n",
      "\n",
      "For example, when doing 'df[col].method(value, inplace=True)', try using 'df.method({col: value}, inplace=True)' or df[col] = df[col].method(value) instead, to perform the operation inplace on the original object.\n",
      "\n",
      "\n",
      "  df_cleaned[\"Height\"].fillna(df_cleaned[\"Height\"].median(), inplace=True)\n",
      "/var/folders/6p/l4q7z30n5sv_r0vgy0ll38fh0000gn/T/ipykernel_79987/3530544438.py:23: SettingWithCopyWarning: \n",
      "A value is trying to be set on a copy of a slice from a DataFrame\n",
      "\n",
      "See the caveats in the documentation: https://pandas.pydata.org/pandas-docs/stable/user_guide/indexing.html#returning-a-view-versus-a-copy\n",
      "  df_cleaned[\"Height\"].fillna(df_cleaned[\"Height\"].median(), inplace=True)\n",
      "/var/folders/6p/l4q7z30n5sv_r0vgy0ll38fh0000gn/T/ipykernel_79987/3530544438.py:24: FutureWarning: A value is trying to be set on a copy of a DataFrame or Series through chained assignment using an inplace method.\n",
      "The behavior will change in pandas 3.0. This inplace method will never work because the intermediate object on which we are setting values always behaves as a copy.\n",
      "\n",
      "For example, when doing 'df[col].method(value, inplace=True)', try using 'df.method({col: value}, inplace=True)' or df[col] = df[col].method(value) instead, to perform the operation inplace on the original object.\n",
      "\n",
      "\n",
      "  df_cleaned[\"Weight\"].fillna(df_cleaned[\"Weight\"].mean(), inplace=True)\n",
      "/var/folders/6p/l4q7z30n5sv_r0vgy0ll38fh0000gn/T/ipykernel_79987/3530544438.py:24: SettingWithCopyWarning: \n",
      "A value is trying to be set on a copy of a slice from a DataFrame\n",
      "\n",
      "See the caveats in the documentation: https://pandas.pydata.org/pandas-docs/stable/user_guide/indexing.html#returning-a-view-versus-a-copy\n",
      "  df_cleaned[\"Weight\"].fillna(df_cleaned[\"Weight\"].mean(), inplace=True)\n",
      "/var/folders/6p/l4q7z30n5sv_r0vgy0ll38fh0000gn/T/ipykernel_79987/3530544438.py:25: FutureWarning: A value is trying to be set on a copy of a DataFrame or Series through chained assignment using an inplace method.\n",
      "The behavior will change in pandas 3.0. This inplace method will never work because the intermediate object on which we are setting values always behaves as a copy.\n",
      "\n",
      "For example, when doing 'df[col].method(value, inplace=True)', try using 'df.method({col: value}, inplace=True)' or df[col] = df[col].method(value) instead, to perform the operation inplace on the original object.\n",
      "\n",
      "\n",
      "  df_cleaned[\"Grade\"].fillna(df_cleaned[\"Grade\"].mode()[0], inplace=True)\n",
      "/var/folders/6p/l4q7z30n5sv_r0vgy0ll38fh0000gn/T/ipykernel_79987/3530544438.py:25: SettingWithCopyWarning: \n",
      "A value is trying to be set on a copy of a slice from a DataFrame\n",
      "\n",
      "See the caveats in the documentation: https://pandas.pydata.org/pandas-docs/stable/user_guide/indexing.html#returning-a-view-versus-a-copy\n",
      "  df_cleaned[\"Grade\"].fillna(df_cleaned[\"Grade\"].mode()[0], inplace=True)\n"
     ]
    }
   ],
   "source": [
    "import pandas as pd\n",
    "import numpy as np\n",
    "\n",
    "# Step 1: Create a DataFrame with some invalid data\n",
    "data = {\n",
    "    \"Name\": [\"Liam\", \"Sophia\", \"Invalid Data\", \"Olivia\", \"Ethan\"],\n",
    "    \"Age\": [28, np.nan, 34, 21, np.nan],\n",
    "    \"Height\": [172, 158, np.nan, 165, 180],\n",
    "    \"Weight\": [70, 55, 68, np.nan, 80],\n",
    "    \"Grade\": [\"B\", \"A\", np.nan, \"C\", \"B\"],\n",
    "    \"Gender\": [\"Male\", \"Female\", \"Unknown\", \"Female\", \"Male\"],\n",
    "}\n",
    "\n",
    "df = pd.DataFrame(data)\n",
    "print(\"Original DataFrame:\")\n",
    "print(df)\n",
    "\n",
    "# Step 2: Remove rows with invalid Name entries\n",
    "df_cleaned = df[df[\"Name\"] != \"Invalid Data\"]\n",
    "\n",
    "# Step 3: Handle missing values in the cleaned DataFrame\n",
    "df_cleaned[\"Age\"].fillna(df_cleaned[\"Age\"].mean(), inplace=True)\n",
    "df_cleaned[\"Height\"].fillna(df_cleaned[\"Height\"].median(), inplace=True)\n",
    "df_cleaned[\"Weight\"].fillna(df_cleaned[\"Weight\"].mean(), inplace=True)\n",
    "df_cleaned[\"Grade\"].fillna(df_cleaned[\"Grade\"].mode()[0], inplace=True)\n",
    "\n",
    "print(\"\\nCleaned DataFrame:\")\n",
    "print(df_cleaned)"
   ]
  },
  {
   "cell_type": "code",
   "execution_count": null,
   "id": "04398699",
   "metadata": {},
   "outputs": [],
   "source": []
  }
 ],
 "metadata": {
  "kernelspec": {
   "display_name": ".venv",
   "language": "python",
   "name": "python3"
  },
  "language_info": {
   "codemirror_mode": {
    "name": "ipython",
    "version": 3
   },
   "file_extension": ".py",
   "mimetype": "text/x-python",
   "name": "python",
   "nbconvert_exporter": "python",
   "pygments_lexer": "ipython3",
   "version": "3.13.5"
  }
 },
 "nbformat": 4,
 "nbformat_minor": 5
}
