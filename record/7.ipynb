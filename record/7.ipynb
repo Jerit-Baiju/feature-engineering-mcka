{
 "cells": [
  {
   "cell_type": "code",
   "execution_count": 1,
   "id": "2a81434b",
   "metadata": {},
   "outputs": [
    {
     "name": "stdout",
     "output_type": "stream",
     "text": [
      "Original DataFrame:\n",
      "   X1  X2\n",
      "0   1  10\n",
      "1   2  20\n",
      "2   3  30\n",
      "3   4  40\n",
      "4   5  50\n",
      "\n",
      "DataFrame with Polynomial and Interaction Features:\n",
      "    X1    X2  X1^2  X1 X2    X2^2\n",
      "0  1.0  10.0   1.0   10.0   100.0\n",
      "1  2.0  20.0   4.0   40.0   400.0\n",
      "2  3.0  30.0   9.0   90.0   900.0\n",
      "3  4.0  40.0  16.0  160.0  1600.0\n",
      "4  5.0  50.0  25.0  250.0  2500.0\n"
     ]
    }
   ],
   "source": [
    "import pandas as pd\n",
    "from sklearn.preprocessing import PolynomialFeatures\n",
    "\n",
    "# Step 1: Create a DataFrame\n",
    "data = {\"X1\": [1, 2, 3, 4, 5], \"X2\": [10, 20, 30, 40, 50]}\n",
    "\n",
    "df = pd.DataFrame(data)\n",
    "print(\"Original DataFrame:\")\n",
    "print(df)\n",
    "\n",
    "# Step 2: Generate polynomial and interaction features (degree=2)\n",
    "poly = PolynomialFeatures(degree=2, include_bias=False)\n",
    "poly_features = poly.fit_transform(df)\n",
    "\n",
    "# Step 3: Create a new DataFrame with feature names\n",
    "feature_names = poly.get_feature_names_out(df.columns)\n",
    "df_poly = pd.DataFrame(poly_features, columns=feature_names)\n",
    "\n",
    "print(\"\\nDataFrame with Polynomial and Interaction Features:\")\n",
    "print(df_poly)"
   ]
  }
 ],
 "metadata": {
  "kernelspec": {
   "display_name": ".venv",
   "language": "python",
   "name": "python3"
  },
  "language_info": {
   "codemirror_mode": {
    "name": "ipython",
    "version": 3
   },
   "file_extension": ".py",
   "mimetype": "text/x-python",
   "name": "python",
   "nbconvert_exporter": "python",
   "pygments_lexer": "ipython3",
   "version": "3.13.5"
  }
 },
 "nbformat": 4,
 "nbformat_minor": 5
}
