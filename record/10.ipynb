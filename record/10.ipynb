{
 "cells": [
  {
   "cell_type": "code",
   "execution_count": null,
   "id": "e3423211",
   "metadata": {},
   "outputs": [],
   "source": [
    "import pandas as pd\n",
    "import nltk\n",
    "from nltk.tokenize import word_tokenize\n",
    "\n",
    "# Step 1: Download NLTK punkt tokenizer (if not already)\n",
    "nltk.download(\"punkt\")\n",
    "\n",
    "# Step 2: Create a DataFrame with text data\n",
    "data = {\n",
    "    \"Text\": [\n",
    "        \"Hello world! This is a test sentence.\",\n",
    "        \"Preprocessing text is important for NLP.\",\n",
    "        \"Tokenization splits text into words.\",\n",
    "        \"Pandas is great for handling datasets.\",\n",
    "    ]\n",
    "}\n",
    "\n",
    "df = pd.DataFrame(data)\n",
    "print(\"Original DataFrame:\")\n",
    "print(df)\n",
    "\n",
    "# Step 3: Tokenize the text\n",
    "df[\"Tokens\"] = df[\"Text\"].apply(lambda x: word_tokenize(x))\n",
    "\n",
    "print(\"\\nDataFrame after Tokenization:\")\n",
    "print(df)"
   ]
  }
 ],
 "metadata": {
  "kernelspec": {
   "display_name": ".venv",
   "language": "python",
   "name": "python3"
  },
  "language_info": {
   "codemirror_mode": {
    "name": "ipython",
    "version": 3
   },
   "file_extension": ".py",
   "mimetype": "text/x-python",
   "name": "python",
   "nbconvert_exporter": "python",
   "pygments_lexer": "ipython3",
   "version": "3.13.5"
  }
 },
 "nbformat": 4,
 "nbformat_minor": 5
}
