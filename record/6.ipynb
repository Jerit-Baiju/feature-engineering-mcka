{
 "cells": [
  {
   "cell_type": "code",
   "execution_count": 1,
   "id": "7f952f97",
   "metadata": {},
   "outputs": [
    {
     "name": "stdout",
     "output_type": "stream",
     "text": [
      "Original DataFrame:\n",
      "       Name  Score\n",
      "0      Liam     88\n",
      "1    Sophia     75\n",
      "2      Noah     92\n",
      "3    Olivia     70\n",
      "4     Ethan     85\n",
      "5       Ava     65\n",
      "6     Mason     90\n",
      "7  Isabella     72\n",
      "\n",
      "DataFrame with Binned Scores:\n",
      "       Name  Score Score_Bin\n",
      "0      Liam     88     80-90\n",
      "1    Sophia     75     70-80\n",
      "2      Noah     92    90-100\n",
      "3    Olivia     70     70-80\n",
      "4     Ethan     85     80-90\n",
      "5       Ava     65     60-70\n",
      "6     Mason     90    90-100\n",
      "7  Isabella     72     70-80\n"
     ]
    }
   ],
   "source": [
    "import pandas as pd\n",
    "\n",
    "# Step 1: Create a DataFrame\n",
    "data = {\n",
    "    \"Name\": [\"Liam\", \"Sophia\", \"Noah\", \"Olivia\", \"Ethan\", \"Ava\", \"Mason\", \"Isabella\"],\n",
    "    \"Score\": [88, 75, 92, 70, 85, 65, 90, 72],\n",
    "}\n",
    "\n",
    "df = pd.DataFrame(data)\n",
    "print(\"Original DataFrame:\")\n",
    "print(df)\n",
    "\n",
    "# Step 2: Define bins and labels\n",
    "bins = [60, 70, 80, 90, 100]  # Intervals: 60-70, 70-80, 80-90, 90-100\n",
    "labels = [\"60-70\", \"70-80\", \"80-90\", \"90-100\"]\n",
    "\n",
    "# Step 3: Bin the numerical data\n",
    "df[\"Score_Bin\"] = pd.cut(df[\"Score\"], bins=bins, labels=labels, right=False)\n",
    "\n",
    "print(\"\\nDataFrame with Binned Scores:\")\n",
    "print(df)"
   ]
  }
 ],
 "metadata": {
  "kernelspec": {
   "display_name": ".venv",
   "language": "python",
   "name": "python3"
  },
  "language_info": {
   "codemirror_mode": {
    "name": "ipython",
    "version": 3
   },
   "file_extension": ".py",
   "mimetype": "text/x-python",
   "name": "python",
   "nbconvert_exporter": "python",
   "pygments_lexer": "ipython3",
   "version": "3.13.5"
  }
 },
 "nbformat": 4,
 "nbformat_minor": 5
}
