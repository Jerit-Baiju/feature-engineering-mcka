{
 "cells": [
  {
   "cell_type": "code",
   "execution_count": null,
   "id": "6c2917a7",
   "metadata": {},
   "outputs": [],
   "source": [
    "import pandas as pd\n",
    "from sklearn.feature_extraction.text import TfidfVectorizer\n",
    "\n",
    "# Step 1: Create a DataFrame with text data\n",
    "data = {\n",
    "    \"Text\": [\n",
    "        \"Hello world! This is a test.\",\n",
    "        \"Preprocessing text is important for NLP.\",\n",
    "        \"Tokenization splits text into words.\",\n",
    "        \"Pandas is great for handling datasets.\",\n",
    "    ]\n",
    "}\n",
    "\n",
    "df = pd.DataFrame(data)\n",
    "\n",
    "# Step 2: Initialize TfidfVectorizer\n",
    "vectorizer = TfidfVectorizer()\n",
    "\n",
    "# Step 3: Fit and transform the text data\n",
    "tfidf_matrix = vectorizer.fit_transform(df[\"Text\"])\n",
    "\n",
    "# Step 4: Convert to DataFrame for readability\n",
    "df_tfidf = pd.DataFrame(tfidf_matrix.toarray(), columns=vectorizer.get_feature_names_out())\n",
    "\n",
    "print(\"TF-IDF DataFrame:\")\n",
    "print(df_tfidf)"
   ]
  }
 ],
 "metadata": {
  "language_info": {
   "name": "python"
  }
 },
 "nbformat": 4,
 "nbformat_minor": 5
}
