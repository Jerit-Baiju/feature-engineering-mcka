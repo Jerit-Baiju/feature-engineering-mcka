{
 "cells": [
  {
   "cell_type": "code",
   "execution_count": null,
   "id": "7d093ede",
   "metadata": {},
   "outputs": [],
   "source": [
    "import pandas as pd\n",
    "from sklearn.feature_extraction.text import CountVectorizer\n",
    "\n",
    "# Step 1: Create a DataFrame with text data\n",
    "data = {\n",
    "    \"Text\": [\n",
    "        \"Hello world! This is a test.\",\n",
    "        \"Preprocessing text is important for NLP.\",\n",
    "        \"Tokenization splits text into words.\",\n",
    "        \"Pandas is great for handling datasets.\",\n",
    "    ]\n",
    "}\n",
    "\n",
    "df = pd.DataFrame(data)\n",
    "\n",
    "# Step 2: Initialize CountVectorizer\n",
    "vectorizer = CountVectorizer()\n",
    "\n",
    "# Step 3: Fit and transform the text data\n",
    "bow_matrix = vectorizer.fit_transform(df[\"Text\"])\n",
    "\n",
    "# Step 4: Convert to DataFrame for readability\n",
    "df_bow = pd.DataFrame(bow_matrix.toarray(), columns=vectorizer.get_feature_names_out())\n",
    "\n",
    "print(\"Bag-of-Words DataFrame:\")\n",
    "print(df_bow)"
   ]
  }
 ],
 "metadata": {
  "language_info": {
   "name": "python"
  }
 },
 "nbformat": 4,
 "nbformat_minor": 5
}
