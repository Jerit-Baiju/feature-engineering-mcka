{
 "cells": [
  {
   "cell_type": "code",
   "execution_count": null,
   "id": "5a1b34a7",
   "metadata": {},
   "outputs": [],
   "source": [
    "import pandas as pd\n",
    "import nltk\n",
    "from nltk.tokenize import word_tokenize\n",
    "from nltk.stem import WordNetLemmatizer\n",
    "import string\n",
    "\n",
    "# Step 1: Download necessary NLTK resources\n",
    "nltk.download(\"punkt\")  # for tokenization\n",
    "nltk.download(\"wordnet\")  # for lemmatization\n",
    "nltk.download(\"omw-1.4\")  # for wordnet data\n",
    "\n",
    "# Step 2: Create a DataFrame with text data\n",
    "data = {\n",
    "    \"Text\": [\n",
    "        \"Hello world! This is a testing sentence.\",\n",
    "        \"Preprocessing texts is important for NLP.\",\n",
    "        \"Tokenization splits texts into words.\",\n",
    "        \"Pandas is great for handling datasets.\",\n",
    "    ]\n",
    "}\n",
    "\n",
    "df = pd.DataFrame(data)\n",
    "\n",
    "# Step 3: Initialize lemmatizer\n",
    "lemmatizer = WordNetLemmatizer()\n",
    "\n",
    "\n",
    "# Step 4: Preprocess text with tokenization + lemmatization\n",
    "def tokenize_and_lemmatize(text):\n",
    "    tokens = word_tokenize(text)  # Tokenize\n",
    "    tokens = [t.lower() for t in tokens if t.isalpha()]  # Lowercase & remove punctuation\n",
    "    lemmas = [lemmatizer.lemmatize(t) for t in tokens]  # Lemmatize\n",
    "    return lemmas\n",
    "\n",
    "\n",
    "df[\"Lemmatized_Tokens\"] = df[\"Text\"].apply(tokenize_and_lemmatize)\n",
    "\n",
    "print(df)"
   ]
  }
 ],
 "metadata": {
  "language_info": {
   "name": "python"
  }
 },
 "nbformat": 4,
 "nbformat_minor": 5
}
