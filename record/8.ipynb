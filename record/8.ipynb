{
 "cells": [
  {
   "cell_type": "code",
   "execution_count": 1,
   "id": "03fa148a",
   "metadata": {},
   "outputs": [
    {
     "name": "stdout",
     "output_type": "stream",
     "text": [
      "Original DataFrame:\n",
      "   Distance\n",
      "0         1\n",
      "1         5\n",
      "2        10\n",
      "3        50\n",
      "4       100\n",
      "5       500\n",
      "6      1000\n",
      "7      5000\n",
      "8     10000\n",
      "\n",
      "DataFrame after Logarithmic Transformation:\n",
      "   Distance  Distance_Log\n",
      "0         1      0.693147\n",
      "1         5      1.791759\n",
      "2        10      2.397895\n",
      "3        50      3.931826\n",
      "4       100      4.615121\n",
      "5       500      6.216606\n",
      "6      1000      6.908755\n",
      "7      5000      8.517393\n",
      "8     10000      9.210440\n"
     ]
    }
   ],
   "source": [
    "import pandas as pd\n",
    "import numpy as np\n",
    "\n",
    "# Step 1: Create a DataFrame with skewed data\n",
    "data = {\"Distance\": [1, 5, 10, 50, 100, 500, 1000, 5000, 10000]}\n",
    "\n",
    "df = pd.DataFrame(data)\n",
    "print(\"Original DataFrame:\")\n",
    "print(df)\n",
    "\n",
    "# Step 2: Apply logarithmic transformation\n",
    "df[\"Distance_Log\"] = np.log1p(df[\"Distance\"])  # log1p = log(1 + x), handles 0 values\n",
    "\n",
    "print(\"\\nDataFrame after Logarithmic Transformation:\")\n",
    "print(df)"
   ]
  }
 ],
 "metadata": {
  "kernelspec": {
   "display_name": ".venv",
   "language": "python",
   "name": "python3"
  },
  "language_info": {
   "codemirror_mode": {
    "name": "ipython",
    "version": 3
   },
   "file_extension": ".py",
   "mimetype": "text/x-python",
   "name": "python",
   "nbconvert_exporter": "python",
   "pygments_lexer": "ipython3",
   "version": "3.13.5"
  }
 },
 "nbformat": 4,
 "nbformat_minor": 5
}
