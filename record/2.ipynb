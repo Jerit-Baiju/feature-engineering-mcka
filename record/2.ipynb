{
 "cells": [
  {
   "cell_type": "code",
   "execution_count": 3,
   "id": "7dacfd70",
   "metadata": {},
   "outputs": [
    {
     "name": "stdout",
     "output_type": "stream",
     "text": [
      "Original DataFrame:\n",
      "           Name   Gender  Age\n",
      "0         Alice        F   25\n",
      "1           Bob        M   -1\n",
      "2  invalid data        M   30\n",
      "3         David  invalid   22\n",
      "4           Eve        F   27\n",
      "5           ???        M  150\n",
      "\n",
      "Cleaned DataFrame:\n",
      "    Name Gender  Age\n",
      "0  Alice      F   25\n",
      "4    Eve      F   27\n"
     ]
    }
   ],
   "source": [
    "import pandas as pd\n",
    "\n",
    "# Step 1: Create a DataFrame with some invalid data\n",
    "data = {\n",
    "    \"Name\": [\"Alice\", \"Bob\", \"invalid data\", \"David\", \"Eve\", \"???\"],\n",
    "    \"Gender\": [\"F\", \"M\", \"M\", \"invalid\", \"F\", \"M\"],\n",
    "    \"Age\": [25, -1, 30, 22, 27, 150],  # Invalid ages: -1, 150\n",
    "}\n",
    "\n",
    "df = pd.DataFrame(data)\n",
    "print(\"Original DataFrame:\")\n",
    "print(df)\n",
    "\n",
    "# Step 2: Define conditions for valid data\n",
    "valid_name = ~df[\"Name\"].str.contains(\"invalid|\\\\?\\\\?\\\\?\")  # Remove 'invalid data' or '???'\n",
    "valid_gender = df[\"Gender\"].isin([\"M\", \"F\"])  # Only 'M' or 'F'\n",
    "valid_age = df[\"Age\"].between(0, 120)  # Age should be between 0 and 120\n",
    "\n",
    "# Step 3: Apply all conditions to clean the DataFrame\n",
    "clean_df = df[valid_name & valid_gender & valid_age]\n",
    "\n",
    "print(\"\\nCleaned DataFrame:\")\n",
    "print(clean_df)"
   ]
  }
 ],
 "metadata": {
  "kernelspec": {
   "display_name": ".venv",
   "language": "python",
   "name": "python3"
  },
  "language_info": {
   "codemirror_mode": {
    "name": "ipython",
    "version": 3
   },
   "file_extension": ".py",
   "mimetype": "text/x-python",
   "name": "python",
   "nbconvert_exporter": "python",
   "pygments_lexer": "ipython3",
   "version": "3.13.5"
  }
 },
 "nbformat": 4,
 "nbformat_minor": 5
}
