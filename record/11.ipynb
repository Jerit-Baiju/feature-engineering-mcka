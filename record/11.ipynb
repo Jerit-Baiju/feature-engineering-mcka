{
 "cells": [
  {
   "cell_type": "code",
   "execution_count": null,
   "id": "e30d853a",
   "metadata": {},
   "outputs": [],
   "source": [
    "import pandas as pd\n",
    "import nltk\n",
    "from nltk.tokenize import word_tokenize\n",
    "from nltk.stem import PorterStemmer\n",
    "\n",
    "# Step 1: Download NLTK punkt tokenizer (if not already)\n",
    "nltk.download(\"punkt\")\n",
    "\n",
    "# Step 2: Create a DataFrame with text data\n",
    "data = {\n",
    "    \"Text\": [\n",
    "        \"I am enjoying learning natural language processing.\",\n",
    "        \"Text preprocessing is essential for NLP tasks.\",\n",
    "        \"Tokenization and stemming help simplify text data.\",\n",
    "        \"Pandas makes handling datasets easier.\",\n",
    "    ]\n",
    "}\n",
    "\n",
    "df = pd.DataFrame(data)\n",
    "print(\"Original DataFrame:\")\n",
    "print(df)\n",
    "\n",
    "# Step 3: Initialize stemmer\n",
    "stemmer = PorterStemmer()\n",
    "\n",
    "\n",
    "# Step 4: Apply stemming\n",
    "def stem_text(text):\n",
    "    tokens = word_tokenize(text)  # Tokenize the text\n",
    "    stemmed_tokens = [stemmer.stem(token) for token in tokens]  # Stem each token\n",
    "    return \" \".join(stemmed_tokens)  # Join back into a string\n",
    "\n",
    "\n",
    "df[\"Stemmed_Text\"] = df[\"Text\"].apply(stem_text)\n",
    "\n",
    "print(\"\\nDataFrame after Stemming:\")\n",
    "print(df)"
   ]
  }
 ],
 "metadata": {
  "language_info": {
   "name": "python"
  }
 },
 "nbformat": 4,
 "nbformat_minor": 5
}
