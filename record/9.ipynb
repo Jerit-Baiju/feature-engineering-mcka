{
 "cells": [
  {
   "cell_type": "code",
   "execution_count": 1,
   "id": "002a7995",
   "metadata": {},
   "outputs": [
    {
     "name": "stdout",
     "output_type": "stream",
     "text": [
      "Original DataFrame:\n",
      "     Name Category  Gender\n",
      "0    Liam     Good    Male\n",
      "1  Sophia   Better  Female\n",
      "2    Noah     Best    Male\n",
      "3  Olivia     Good  Female\n",
      "4   Ethan     Best    Male\n",
      "\n",
      "DataFrame after One-Hot Encoding:\n",
      "     Name  Category_Best  Category_Better  Category_Good  Gender_Female  \\\n",
      "0    Liam          False            False           True          False   \n",
      "1  Sophia          False             True          False           True   \n",
      "2    Noah           True            False          False          False   \n",
      "3  Olivia          False            False           True           True   \n",
      "4   Ethan           True            False          False          False   \n",
      "\n",
      "   Gender_Male  \n",
      "0         True  \n",
      "1        False  \n",
      "2         True  \n",
      "3        False  \n",
      "4         True  \n"
     ]
    }
   ],
   "source": [
    "import pandas as pd\n",
    "\n",
    "# Step 1: Create a DataFrame\n",
    "data = {\n",
    "    \"Name\": [\"Liam\", \"Sophia\", \"Noah\", \"Olivia\", \"Ethan\"],\n",
    "    \"Category\": [\"Good\", \"Better\", \"Best\", \"Good\", \"Best\"],\n",
    "    \"Gender\": [\"Male\", \"Female\", \"Male\", \"Female\", \"Male\"],\n",
    "}\n",
    "\n",
    "df = pd.DataFrame(data)\n",
    "print(\"Original DataFrame:\")\n",
    "print(df)\n",
    "\n",
    "# Step 2: Perform one-hot encoding\n",
    "df_encoded = pd.get_dummies(df, columns=[\"Category\", \"Gender\"])\n",
    "\n",
    "print(\"\\nDataFrame after One-Hot Encoding:\")\n",
    "print(df_encoded)"
   ]
  }
 ],
 "metadata": {
  "kernelspec": {
   "display_name": ".venv",
   "language": "python",
   "name": "python3"
  },
  "language_info": {
   "codemirror_mode": {
    "name": "ipython",
    "version": 3
   },
   "file_extension": ".py",
   "mimetype": "text/x-python",
   "name": "python",
   "nbconvert_exporter": "python",
   "pygments_lexer": "ipython3",
   "version": "3.13.5"
  }
 },
 "nbformat": 4,
 "nbformat_minor": 5
}
